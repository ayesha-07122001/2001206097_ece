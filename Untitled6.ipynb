{
  "nbformat": 4,
  "nbformat_minor": 0,
  "metadata": {
    "colab": {
      "provenance": [],
      "authorship_tag": "ABX9TyM2KZLUMluQ7VAcSRKkbN0Q",
      "include_colab_link": true
    },
    "kernelspec": {
      "name": "python3",
      "display_name": "Python 3"
    },
    "language_info": {
      "name": "python"
    }
  },
  "cells": [
    {
      "cell_type": "markdown",
      "metadata": {
        "id": "view-in-github",
        "colab_type": "text"
      },
      "source": [
        "<a href=\"https://colab.research.google.com/github/ayesha-07122001/2001206097_ece/blob/main/Untitled6.ipynb\" target=\"_parent\"><img src=\"https://colab.research.google.com/assets/colab-badge.svg\" alt=\"Open In Colab\"/></a>"
      ]
    },
    {
      "cell_type": "code",
      "execution_count": null,
      "metadata": {
        "colab": {
          "base_uri": "https://localhost:8080/"
        },
        "id": "RFSEPHsYpp88",
        "outputId": "f783c4d6-0970-4b0e-c55e-13762fd4052c"
      },
      "outputs": [
        {
          "output_type": "stream",
          "name": "stdout",
          "text": [
            "Input Radius : 3\n",
            "Area of Circle: 28.259999999999998\n",
            "Perimeter of Circle: 18.84\n"
          ]
        }
      ],
      "source": [
        "r=float(input(\"Input Radius : \"))\n",
        "area=3.14*r*r\n",
        "perimeter=2*3.14*r\n",
        "print(\"Area of Circle:\",area)\n",
        "print(\"Perimeter of Circle:\",perimeter)\n",
        "\n"
      ]
    },
    {
      "cell_type": "code",
      "source": [
        "kilometer=int(input(\"Input the length in Kilometer:\"))\n",
        "centimeter=100000*kilometer\n",
        "meter=1000*kilometer\n",
        "millimeter=1000000*kilometer\n",
        "print(\"Value of Kilometer in Centimeter\",centimeter)\n",
        "print(\"Value of Kilometer in Meter\",meter)\n",
        "print(\"Value of Kilometer in Millimeter\",millimeter )"
      ],
      "metadata": {
        "colab": {
          "base_uri": "https://localhost:8080/"
        },
        "id": "FWk9A5EgsOgJ",
        "outputId": "fd5944bf-5271-49b7-ccff-1013bb36a88e"
      },
      "execution_count": null,
      "outputs": [
        {
          "output_type": "stream",
          "name": "stdout",
          "text": [
            "Input the length in Kilometer:4\n",
            "Value of Kilometer in Centimeter 400000\n",
            "Value of Kilometer in Meter 4000\n",
            "Value of Kilometer in Millimeter 4000000\n"
          ]
        }
      ]
    },
    {
      "cell_type": "code",
      "source": [
        "celsius=float(input(\"Enter temperature in celsius: \"))\n",
        "fahrenheit=(celsius*1.8)+32\n",
        "print(str(celsius)+ \" degree Celsius is equal to \"+str(fahrenheit)+\" degree Fahrenheit.\" )"
      ],
      "metadata": {
        "colab": {
          "base_uri": "https://localhost:8080/"
        },
        "id": "rz_r4Ndc9CUM",
        "outputId": "926179d4-3e9f-492a-c0b8-6e6e35bbbb4b"
      },
      "execution_count": 21,
      "outputs": [
        {
          "output_type": "stream",
          "name": "stdout",
          "text": [
            "Enter temperature in celsius: 50\n",
            "50.0 degree Celsius is equal to 122.0 degree Fahrenheit.\n"
          ]
        }
      ]
    },
    {
      "cell_type": "code",
      "source": [
        "fahrenheit=float(input(\"Enter temperature in fahrenheit:\"))\n",
        "celsius=(fahrenheit-32)/1.8\n",
        "print(str(fahrenheit)+ \" degree Fahrenheit is equal to \"+ str(celsius) +\" degree Celsius.\")"
      ],
      "metadata": {
        "colab": {
          "base_uri": "https://localhost:8080/"
        },
        "id": "Popr04gZA9J6",
        "outputId": "7b801799-6bd0-46f0-bb80-4ca1756a3a3c"
      },
      "execution_count": 23,
      "outputs": [
        {
          "output_type": "stream",
          "name": "stdout",
          "text": [
            "Enter temperature in fahrenheit:50\n",
            "50.0 degree Fahrenheit is equal to 10.0 degree Celsius.\n"
          ]
        }
      ]
    },
    {
      "cell_type": "code",
      "source": [
        "num=int(input(\"Enter the number to be reversed :\"))\n",
        "num_string=str(num)\n",
        "reversed_num=\"\".join(reversed(num_string))\n",
        "print(\"Reversed Number is:\"+ reversed_num)"
      ],
      "metadata": {
        "colab": {
          "base_uri": "https://localhost:8080/"
        },
        "id": "kxcZGf4uFZcj",
        "outputId": "ab44b4f7-6652-4b0d-e376-4187c9b273d9"
      },
      "execution_count": 24,
      "outputs": [
        {
          "output_type": "stream",
          "name": "stdout",
          "text": [
            "Enter the number to be reversed :982447\n",
            "Reversed Number is:744289\n"
          ]
        }
      ]
    }
  ]
}