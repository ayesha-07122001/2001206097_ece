{
  "nbformat": 4,
  "nbformat_minor": 0,
  "metadata": {
    "colab": {
      "provenance": [],
      "authorship_tag": "ABX9TyOn0VvX3SLferQlZO3NaHGX",
      "include_colab_link": true
    },
    "kernelspec": {
      "name": "python3",
      "display_name": "Python 3"
    },
    "language_info": {
      "name": "python"
    }
  },
  "cells": [
    {
      "cell_type": "markdown",
      "metadata": {
        "id": "view-in-github",
        "colab_type": "text"
      },
      "source": [
        "<a href=\"https://colab.research.google.com/github/ayesha-07122001/2001206097_ece/blob/main/Untitled7.ipynb\" target=\"_parent\"><img src=\"https://colab.research.google.com/assets/colab-badge.svg\" alt=\"Open In Colab\"/></a>"
      ]
    },
    {
      "cell_type": "code",
      "execution_count": 3,
      "metadata": {
        "colab": {
          "base_uri": "https://localhost:8080/"
        },
        "id": "i3QQ2tXHCGqf",
        "outputId": "fd925d2f-aa76-478d-c483-466eb16d91b5"
      },
      "outputs": [
        {
          "output_type": "stream",
          "name": "stdout",
          "text": [
            "input a number for a:34\n",
            "input a number for b:54\n",
            "sum of numbers 88\n"
          ]
        }
      ],
      "source": [
        "a=int(input(\"input a number for a:\"))\n",
        "b=int(input(\"input a number for b:\"))\n",
        "def add(a,b):\n",
        "      while (b!=0):\n",
        "          carry=a&b\n",
        "\n",
        "          a=a^b\n",
        "            \n",
        "          b=carry<<1\n",
        "                             \n",
        "      return a\n",
        "              \n",
        "              \n",
        "print(\"sum of numbers\",add(a,b))\n"
      ]
    },
    {
      "cell_type": "code",
      "source": [
        "a=int(input(\"Enter a number for a:\"))\n",
        "b=int(input(\"Enter a number for b:\"))\n",
        "def remainder(a,b):\n",
        "   if a==0:\n",
        "     return 0\n",
        "   elif b==0:\n",
        "       return -1\n",
        "   while a>=b:\n",
        "         a=a-b\n",
        "         return a\n",
        "print(\"Remainder :\",remainder(a,b)) \n"
      ],
      "metadata": {
        "colab": {
          "base_uri": "https://localhost:8080/"
        },
        "id": "4H2HM-Y3H-qe",
        "outputId": "d80ad4be-2175-4d2e-ab74-04acece2ffb9"
      },
      "execution_count": 4,
      "outputs": [
        {
          "output_type": "stream",
          "name": "stdout",
          "text": [
            "Enter a number for a:34\n",
            "Enter a number for b:3\n",
            "Remainder : 31\n"
          ]
        }
      ]
    }
  ]
}