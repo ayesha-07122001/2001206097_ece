{
  "nbformat": 4,
  "nbformat_minor": 0,
  "metadata": {
    "colab": {
      "provenance": [],
      "authorship_tag": "ABX9TyMozmxiQdE/e3ZtVjxL6Mt0",
      "include_colab_link": true
    },
    "kernelspec": {
      "name": "python3",
      "display_name": "Python 3"
    },
    "language_info": {
      "name": "python"
    }
  },
  "cells": [
    {
      "cell_type": "markdown",
      "metadata": {
        "id": "view-in-github",
        "colab_type": "text"
      },
      "source": [
        "<a href=\"https://colab.research.google.com/github/ayesha-07122001/2001206097_ece/blob/main/ECE_04_02_23.ipynb\" target=\"_parent\"><img src=\"https://colab.research.google.com/assets/colab-badge.svg\" alt=\"Open In Colab\"/></a>"
      ]
    },
    {
      "cell_type": "code",
      "execution_count": null,
      "metadata": {
        "colab": {
          "base_uri": "https://localhost:8080/"
        },
        "id": "52Uu8CPXlyxO",
        "outputId": "f1eb8133-6be0-471e-ab1d-ace770cebccf"
      },
      "outputs": [
        {
          "output_type": "stream",
          "name": "stdout",
          "text": [
            "a/b= 2.5\n",
            "a//b= 2\n",
            "a**b= 25\n",
            "a<b= False\n",
            "a>b= True\n"
          ]
        }
      ],
      "source": [
        "#Using Arithmatic Operators and Comparison operators.\n",
        "a=5\n",
        "b=2\n",
        "print('a/b=',a/b)\n",
        "print('a//b=',a//b)\n",
        "print('a**b=',a**b)\n",
        "print('a<b=',a<b)\n",
        "print('a>b=',a>b)"
      ]
    },
    {
      "cell_type": "code",
      "source": [
        "#Using Logical Operators\n",
        "a=True\n",
        "print('not A=',not a)\n",
        "b=False\n",
        "print('not B=',not b)"
      ],
      "metadata": {
        "colab": {
          "base_uri": "https://localhost:8080/"
        },
        "id": "G3M8G6qjtVca",
        "outputId": "a015ae3e-35bf-4310-d8bd-e8475cdf6def"
      },
      "execution_count": null,
      "outputs": [
        {
          "output_type": "stream",
          "name": "stdout",
          "text": [
            "not A= False\n",
            "not B= True\n"
          ]
        }
      ]
    },
    {
      "cell_type": "code",
      "source": [
        "#Using Bitwise Operator\n",
        "a=2\n",
        "b=3\n",
        "c=a<<b\n",
        "print('a<<b=',c)"
      ],
      "metadata": {
        "id": "8948VEutyHqN",
        "colab": {
          "base_uri": "https://localhost:8080/"
        },
        "outputId": "258c16c9-36ba-4a59-8e3e-0d70d8816e2c"
      },
      "execution_count": 6,
      "outputs": [
        {
          "output_type": "stream",
          "name": "stdout",
          "text": [
            "a<<b= 16\n"
          ]
        }
      ]
    },
    {
      "cell_type": "code",
      "source": [
        "#Using IDENTITY OPERATOR(is and is not).\n",
        "a=5\n",
        "b=5\n",
        "print('a is b',a is b)\n",
        "print('a is not b',a is not b)\n",
        "x='CSE'\n",
        "y='ECE'\n",
        "print('x is y',x is y)\n",
        "print(\"x is not y\",x is not y)\n"
      ],
      "metadata": {
        "id": "iHoHptCkyZnJ",
        "colab": {
          "base_uri": "https://localhost:8080/"
        },
        "outputId": "68fbb2d4-8f5d-48c2-ffad-3df38e06f364"
      },
      "execution_count": 5,
      "outputs": [
        {
          "output_type": "stream",
          "name": "stdout",
          "text": [
            "a is b True\n",
            "a is not b False\n",
            "x is y False\n",
            "x is not y True\n"
          ]
        }
      ]
    },
    {
      "cell_type": "code",
      "source": [
        "#Using Membership operator(in and not in)\n",
        "a='Hello ECE'\n",
        "print('A in a=',a in 'A')"
      ],
      "metadata": {
        "id": "3tGoLHrl0FHo",
        "colab": {
          "base_uri": "https://localhost:8080/"
        },
        "outputId": "8e70ced0-3638-417e-a4f0-e7708e3d008e"
      },
      "execution_count": 7,
      "outputs": [
        {
          "output_type": "stream",
          "name": "stdout",
          "text": [
            "A in a= False\n"
          ]
        }
      ]
    },
    {
      "cell_type": "code",
      "source": [
        "#Using if and else statement\n",
        "num=int(input(\"enter the number\"))\n",
        "if num%2==0:\n",
        "  print(\"Number is even\")\n",
        "else:\n",
        "  print(\"Number is odd\")"
      ],
      "metadata": {
        "id": "UhMXrDlQ1eHn",
        "colab": {
          "base_uri": "https://localhost:8080/"
        },
        "outputId": "bbccc773-635f-4d2a-bfe5-35ac771e56b7"
      },
      "execution_count": 11,
      "outputs": [
        {
          "output_type": "stream",
          "name": "stdout",
          "text": [
            "enter the number20\n",
            "Number is even\n"
          ]
        }
      ]
    },
    {
      "cell_type": "code",
      "source": [
        "#Using if...elif Statement\n",
        "number=int(input(\"enter the number\"))\n",
        "if number==10:\n",
        " print(\"number is equal to 10\")\n",
        "elif number==50:\n",
        "  print(\"number is equal to 50\")\n",
        "elif number==100:\n",
        "  print(\"number is equal to 100\")\n",
        "else:\n",
        "  print(\"number is not equal to 10,50 or 100\") "
      ],
      "metadata": {
        "colab": {
          "base_uri": "https://localhost:8080/"
        },
        "id": "l0RcfgIX3i_O",
        "outputId": "90658ea8-f63f-47fe-eb75-ee5b388ad134"
      },
      "execution_count": 12,
      "outputs": [
        {
          "output_type": "stream",
          "name": "stdout",
          "text": [
            "enter the number50\n",
            "number is equal to 50\n"
          ]
        }
      ]
    }
  ]
}