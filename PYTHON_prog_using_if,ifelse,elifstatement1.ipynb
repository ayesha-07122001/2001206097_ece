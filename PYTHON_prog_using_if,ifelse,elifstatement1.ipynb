{
  "nbformat": 4,
  "nbformat_minor": 0,
  "metadata": {
    "colab": {
      "provenance": [],
      "authorship_tag": "ABX9TyMgbdaaKkDXN/sRP3zLiF7t",
      "include_colab_link": true
    },
    "kernelspec": {
      "name": "python3",
      "display_name": "Python 3"
    },
    "language_info": {
      "name": "python"
    }
  },
  "cells": [
    {
      "cell_type": "markdown",
      "metadata": {
        "id": "view-in-github",
        "colab_type": "text"
      },
      "source": [
        "<a href=\"https://colab.research.google.com/github/ayesha-07122001/2001206097_ece/blob/main/PYTHON_prog_using_if%2Cifelse%2Celifstatement1.ipynb\" target=\"_parent\"><img src=\"https://colab.research.google.com/assets/colab-badge.svg\" alt=\"Open In Colab\"/></a>"
      ]
    },
    {
      "cell_type": "code",
      "execution_count": 6,
      "metadata": {
        "colab": {
          "base_uri": "https://localhost:8080/"
        },
        "id": "fpmGVeulN1Ab",
        "outputId": "37750fb0-7050-4f31-9f8b-fe393c8b92d7"
      },
      "outputs": [
        {
          "output_type": "stream",
          "name": "stdout",
          "text": [
            "a salary15000\n",
            "a number for yos:8\n",
            "BONUS IS 750.0\n"
          ]
        }
      ],
      "source": [
        "\n",
        "sal=float(input(\"a salary\"))\n",
        "\n",
        "yos=float(input(\"a number for yos:\"))\n",
        "if (yos>5):\n",
        "   print(\"BONUS IS\",0.05*sal)\n",
        "else:\n",
        "    print(\"NO BONUS\")"
      ]
    },
    {
      "cell_type": "code",
      "source": [
        "print(\"ENTER LENGTH for l:\")\n",
        "l=input()\n",
        "print(\"ENTER BREADTH for b:\")\n",
        "b=input()\n",
        "if l==b:\n",
        "  print(\"yes,it is square\")\n",
        "else:\n",
        "    print(\"no,it is not a square\")"
      ],
      "metadata": {
        "colab": {
          "base_uri": "https://localhost:8080/"
        },
        "id": "4b20YfG3PeYP",
        "outputId": "a09eb52c-53ac-4e54-a5bd-877d51f07ef9"
      },
      "execution_count": 8,
      "outputs": [
        {
          "output_type": "stream",
          "name": "stdout",
          "text": [
            "ENTER LENGTH for l:\n",
            "5\n",
            "ENTER BREADTH for b:\n",
            "5\n",
            "yes,it is square\n"
          ]
        }
      ]
    },
    {
      "cell_type": "code",
      "source": [
        "f=int(input(\"enter first number for f:\"))\n",
        "s=int(input(\"enter second number for s:\"))\n",
        "if f>s:\n",
        "  print(\"Greater is\",f)\n",
        "elif s>f:\n",
        "    print(\"Greater is\",s)\n",
        "else:\n",
        "   print(\"Both are equal\")"
      ],
      "metadata": {
        "colab": {
          "base_uri": "https://localhost:8080/"
        },
        "id": "CYE_uT9TTX3I",
        "outputId": "c1af70f4-56aa-44bf-fcb0-9290ecf82e83"
      },
      "execution_count": 9,
      "outputs": [
        {
          "output_type": "stream",
          "name": "stdout",
          "text": [
            "enter first number for f:5\n",
            "enter second number for s:7\n",
            "Greater is 7\n"
          ]
        }
      ]
    },
    {
      "cell_type": "code",
      "source": [
        "q=float(input(\"enter quantity for q:\"))\n",
        "c=q*100\n",
        "if c>1000:\n",
        "  print(\"cost is\",(c-(0.1*c)))\n",
        "else:\n",
        "  print(\"Cost is\",c)"
      ],
      "metadata": {
        "colab": {
          "base_uri": "https://localhost:8080/"
        },
        "id": "E2JYIqeQVYef",
        "outputId": "f24cc652-9c5d-461e-dcca-95b9eba299ba"
      },
      "execution_count": 10,
      "outputs": [
        {
          "output_type": "stream",
          "name": "stdout",
          "text": [
            "enter quantity for q:450\n",
            "cost is 40500.0\n"
          ]
        }
      ]
    },
    {
      "cell_type": "code",
      "source": [
        "m=int(input(\"Enter mark for m:\"))\n",
        "if m<25:\n",
        "  print(\"F\")\n",
        "elif m>=25 and m<45:\n",
        "  print(\"E\")\n",
        "elif m>=45 and m<50:\n",
        "  print(\"D\")\n",
        "elif m>=50 and m<60:\n",
        "  print(\"C\")\n",
        "elif m>=60 and m<80:\n",
        "  print(\"B\")\n",
        "else:\n",
        "  print(\"A\")"
      ],
      "metadata": {
        "colab": {
          "base_uri": "https://localhost:8080/"
        },
        "id": "FkKGPYyLWhYV",
        "outputId": "2808d452-3348-4028-98dc-ce57b67b365a"
      },
      "execution_count": 11,
      "outputs": [
        {
          "output_type": "stream",
          "name": "stdout",
          "text": [
            "Enter mark for m:76\n",
            "B\n"
          ]
        }
      ]
    },
    {
      "cell_type": "code",
      "source": [
        "f=int(input(\"enter first age for f:\"))\n",
        "s=int(input(\"enter second age for s:\"))\n",
        "t=int(input(\"enter third age for t:\"))\n",
        "if f>=s and f>=t:\n",
        "  print(\"Oldest is\",f)\n",
        "elif s>=f and s>=t:\n",
        "  print(\"Oldest is\",s)\n",
        "elif t>=f and t>=s:\n",
        "  print(\"Oldest is\",t)\n",
        "else:\n",
        "  print(\"All are equal\")"
      ],
      "metadata": {
        "colab": {
          "base_uri": "https://localhost:8080/"
        },
        "id": "WoW8duAQYORe",
        "outputId": "743f7b70-cc01-4da3-b51f-c24e6a03313e"
      },
      "execution_count": 12,
      "outputs": [
        {
          "output_type": "stream",
          "name": "stdout",
          "text": [
            "enter first age for f:45\n",
            "enter second age for s:24\n",
            "enter third age for t:66\n",
            "Oldest is 66\n"
          ]
        }
      ]
    },
    {
      "cell_type": "code",
      "source": [
        "n=int(input(\"enter a number\"))\n",
        "if n<0:\n",
        "  print(\"absolute value is\",n*-1)\n",
        "else:\n",
        "  print(\"absolute value is\",n)"
      ],
      "metadata": {
        "colab": {
          "base_uri": "https://localhost:8080/"
        },
        "id": "c4vuvADSZzkF",
        "outputId": "bbceadcc-a267-4f88-a033-5c31bb43fe29"
      },
      "execution_count": 14,
      "outputs": [
        {
          "output_type": "stream",
          "name": "stdout",
          "text": [
            "enter a number-1\n",
            "absolute value is 1\n"
          ]
        }
      ]
    },
    {
      "cell_type": "code",
      "source": [
        "h=float(input(\"number of classes held\"))\n",
        "a=int(input(\"number of classes attend\"))\n",
        "p=(a/h)*100\n",
        "print(\"atendance is\",p)\n",
        "if p>=75:\n",
        "  print(\"you are allowed to sit in exam\")\n",
        "else:\n",
        "  print(\"sorry,you are not allowed.\")"
      ],
      "metadata": {
        "colab": {
          "base_uri": "https://localhost:8080/"
        },
        "id": "S6tHW01RbFcD",
        "outputId": "37b21a7f-f71d-4f72-de73-b1af358029c7"
      },
      "execution_count": 15,
      "outputs": [
        {
          "output_type": "stream",
          "name": "stdout",
          "text": [
            "number of classes held12\n",
            "number of classes attend7\n",
            "atendance is 58.333333333333336\n",
            "sorry,you are not allowed.\n"
          ]
        }
      ]
    },
    {
      "cell_type": "code",
      "source": [
        "signal=str(input(\"what is signal color:\"))\n",
        "if signal==\"red\":\n",
        "  print(\"stop the car.\")\n",
        "elif signal==\"yellow\":\n",
        "  print(\"car has to wait\")\n",
        "elif signal==\"green\":\n",
        "  print(\"you are allowed to go.\")\n",
        "else:\n",
        "  print(\"unrecognized signal!\")"
      ],
      "metadata": {
        "colab": {
          "base_uri": "https://localhost:8080/"
        },
        "id": "kPtAgqv2cjX-",
        "outputId": "896b8867-b342-4934-d8ea-56915e6bd8e3"
      },
      "execution_count": 16,
      "outputs": [
        {
          "output_type": "stream",
          "name": "stdout",
          "text": [
            "what is signal color:green\n",
            "you are allowed to go.\n"
          ]
        }
      ]
    }
  ]
}